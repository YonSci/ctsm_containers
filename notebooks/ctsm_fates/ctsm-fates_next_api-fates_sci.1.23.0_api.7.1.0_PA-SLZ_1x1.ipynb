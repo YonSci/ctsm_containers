{
 "cells": [
  {
   "cell_type": "code",
   "execution_count": null,
   "metadata": {},
   "outputs": [],
   "source": [
    "### Setup environment\n",
    "import os\n",
    "import glob\n",
    "import subprocess\n",
    "import sys\n",
    "import time\n",
    "from scipy.io import netcdf as nc\n",
    "\n",
    "import matplotlib.pyplot as plt\n",
    "from os.path import expanduser\n",
    "\n",
    "### Define output path\n",
    "home = expanduser(\"~\")\n",
    "output_dir = os.path.join(home,'scratch')  # main output directory.\n",
    "os.makedirs(os.path.dirname(output_dir), exist_ok=True)\n",
    "print(output_dir)"
   ]
  },
  {
   "cell_type": "code",
   "execution_count": null,
   "metadata": {},
   "outputs": [],
   "source": [
    "### Grab latest CTSM docker container from Docker hub\n",
    "source = \"serbinsh/ctsm_containers\"\n",
    "docker_container_tag = \"ctsm-fates_next_api-fates_sci.1.23.0_api.7.1.0\"\n",
    "container_name = ''.join([source,\":\",docker_container_tag])\n",
    "print(container_name)\n",
    "docker_pull_command = ''.join([\"docker pull \",source,\":\",docker_container_tag])\n",
    "os.system(docker_pull_command)\n",
    "\n",
    "# you should see docker pull progress in the Jupyter shell"
   ]
  },
  {
   "cell_type": "code",
   "execution_count": null,
   "metadata": {},
   "outputs": [],
   "source": [
    "### Define run parameters for CTSM\n",
    "start_year = '1900-01-01'  # you need to place this in the single quotations\n",
    "num_years = 120\n",
    "met_start = 2008\n",
    "met_end = 2016\n",
    "run_type = \"startup\"\n",
    "hostname = \"modex\"\n",
    "user = \"clmuser\"\n",
    "\n",
    "# Define input/output paths (host:container)\n",
    "cesm_input_data_paths = \"/Users/shawnserbin/Data/cesm_input_data:/data\"\n",
    "output_path = ''.join([output_dir,\":/ctsm_output\"])\n",
    "print(output_path)\n",
    "\n",
    "# Define script to run\n",
    "host_script_dir = \"/Users/shawnserbin/Data/GitHub/ctsm_containers/ctsm_run_scripts:/ctsm_run_scripts\"\n",
    "ctsm_case_build_script = \"/ctsm_run_scripts/create_case_ctsmfates_1pt_example_PA-SLZ.sh\"\n"
   ]
  },
  {
   "cell_type": "code",
   "execution_count": null,
   "metadata": {},
   "outputs": [],
   "source": [
    "### Define case build command\n",
    "run_command = ''.join([\"docker run --hostname=\",hostname,\" --user \",user,\" -v \", host_script_dir,\" -v \",cesm_input_data_paths, \" -v \", output_path, \" \", container_name, \" \", ctsm_case_build_script, \" \", \"-sy=\",\"'\",start_year.__str__(),\"'\", \" \", \"-ny=\",num_years.__str__(),\" \",\"-rt=\",run_type,\" \",\"-mets=\",met_start.__str__(),\" \",\"-mete=\",met_end.__str__()])\n",
    "print(run_command)"
   ]
  },
  {
   "cell_type": "code",
   "execution_count": null,
   "metadata": {},
   "outputs": [],
   "source": [
    "### Build the case\n",
    "start = time.time()\n",
    "# run the docker container\n",
    "os.system(run_command)\n",
    "# get runtime\n",
    "end = time.time()\n",
    "#Print runtime\n",
    "print(end - start)"
   ]
  },
  {
   "cell_type": "code",
   "execution_count": null,
   "metadata": {},
   "outputs": [],
   "source": [
    "### Setup case run command\n",
    "case_directory = \"CLM5FATES_1554118411_1x1PASLZ\" # need to grab this from the shell\n",
    "run_command = ''.join([\"docker run --hostname=\",hostname,\" --user \",user,\" -v \", cesm_input_data_paths, \" -v \", output_path, \" \",container_name, \" \",\"/bin/sh -c 'cd /ctsm_output/\",case_directory,\" && ./case.submit'\"])\n",
    "print(run_command)\n"
   ]
  },
  {
   "cell_type": "code",
   "execution_count": null,
   "metadata": {},
   "outputs": [],
   "source": [
    "### Run the case\n",
    "start = time.time()\n",
    "# run the docker container\n",
    "os.system(run_command)\n",
    "# get runtime\n",
    "end = time.time()\n",
    "#Print runtime\n",
    "print(end - start)"
   ]
  },
  {
   "cell_type": "code",
   "execution_count": null,
   "metadata": {},
   "outputs": [],
   "source": [
    "### explore output\n",
    "\n",
    "# first concatenate netCDF files\n",
    "ncfiles = ''.join([case_directory,\".clm2.h0.*\"])\n",
    "print(ncfiles)\n",
    "\n",
    "concat_command = ''.join([\"cd \",output_dir,\"/\",case_directory,\"/run\",\" && ncrcat \",ncfiles,\" all_years.nc\"])\n",
    "print(concat_command)\n",
    "os.system(concat_command)"
   ]
  },
  {
   "cell_type": "code",
   "execution_count": null,
   "metadata": {},
   "outputs": [],
   "source": [
    "### view output header\n",
    "ncdump = ''.join([\"cd \",output_dir,\"/\",case_directory,\"/run\",\" && ncdump -h all_years.nc\"])\n",
    "print(ncdump)\n",
    "os.system(ncdump)"
   ]
  },
  {
   "cell_type": "code",
   "execution_count": null,
   "metadata": {},
   "outputs": [],
   "source": [
    "### get output\n",
    "filename_in = ''.join([output_dir,\"/\",case_directory,\"/run/all_years.nc\"])\n",
    "print(filename_in)\n",
    "fin = nc.netcdf_file(filename_in)\n"
   ]
  },
  {
   "cell_type": "code",
   "execution_count": null,
   "metadata": {},
   "outputs": [],
   "source": [
    "### read the coordinate data for the various dimensions\n",
    "time = fin.variables['time'][:]  ### time dimension, put in unit of years\n",
    "print(time)"
   ]
  },
  {
   "cell_type": "code",
   "execution_count": null,
   "metadata": {},
   "outputs": [],
   "source": [
    "# get variables\n",
    "gpp = fin.variables['GPP'][:]\n",
    "print(gpp)\n",
    "lai = fin.variables['TLAI'][:]\n",
    "print(lai)"
   ]
  }
 ],
 "metadata": {
  "kernelspec": {
   "display_name": "Python 3",
   "language": "python",
   "name": "python3"
  },
  "language_info": {
   "codemirror_mode": {
    "name": "ipython",
    "version": 3
   },
   "file_extension": ".py",
   "mimetype": "text/x-python",
   "name": "python",
   "nbconvert_exporter": "python",
   "pygments_lexer": "ipython3",
   "version": "3.7.2"
  }
 },
 "nbformat": 4,
 "nbformat_minor": 2
}
