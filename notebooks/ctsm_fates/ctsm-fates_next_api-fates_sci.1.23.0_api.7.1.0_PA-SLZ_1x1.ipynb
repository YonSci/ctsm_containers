{
 "cells": [
  {
   "cell_type": "code",
   "execution_count": 1,
   "metadata": {},
   "outputs": [
    {
     "name": "stdout",
     "output_type": "stream",
     "text": [
      "/Users/shawnserbin/scratch\n"
     ]
    }
   ],
   "source": [
    "### Setup environment\n",
    "import os\n",
    "import glob\n",
    "import subprocess\n",
    "import sys\n",
    "import time\n",
    "from scipy.io import netcdf as nc\n",
    "\n",
    "import matplotlib.pyplot as plt\n",
    "from os.path import expanduser\n",
    "\n",
    "### Define output path\n",
    "home = expanduser(\"~\")\n",
    "output_dir = os.path.join(home,'scratch')  # main output directory.\n",
    "os.makedirs(os.path.dirname(output_dir), exist_ok=True)\n",
    "print(output_dir)"
   ]
  },
  {
   "cell_type": "code",
   "execution_count": 2,
   "metadata": {},
   "outputs": [
    {
     "name": "stdout",
     "output_type": "stream",
     "text": [
      "serbinsh/ctsm_containers:ctsm-fates_next_api-fates_sci.1.23.0_api.7.1.0\n"
     ]
    },
    {
     "data": {
      "text/plain": [
       "256"
      ]
     },
     "execution_count": 2,
     "metadata": {},
     "output_type": "execute_result"
    }
   ],
   "source": [
    "### Grab latest CTSM docker container from Docker hub\n",
    "source = \"serbinsh/ctsm_containers\"\n",
    "docker_container_tag = \"ctsm-fates_next_api-fates_sci.1.23.0_api.7.1.0\"\n",
    "container_name = ''.join([source,\":\",docker_container_tag])\n",
    "print(container_name)\n",
    "docker_pull_command = ''.join([\"docker pull \",source,\":\",docker_container_tag])\n",
    "os.system(docker_pull_command)\n",
    "\n",
    "# you should see docker pull progress in the Jupyter shell"
   ]
  },
  {
   "cell_type": "code",
   "execution_count": 3,
   "metadata": {},
   "outputs": [
    {
     "name": "stdout",
     "output_type": "stream",
     "text": [
      "/Users/shawnserbin/scratch:/ctsm_output\n"
     ]
    }
   ],
   "source": [
    "### Define run parameters for CTSM\n",
    "start_year = '1900-01-01'  # you need to place this in the single quotations\n",
    "num_years = 120\n",
    "met_start = 2008\n",
    "met_end = 2016\n",
    "run_type = \"startup\"\n",
    "hostname = \"modex\"\n",
    "user = \"clmuser\"\n",
    "\n",
    "# Define input/output paths (host:container)\n",
    "cesm_input_data_paths = \"/Users/shawnserbin/Data/cesm_input_data:/data\"\n",
    "output_path = ''.join([output_dir,\":/ctsm_output\"])\n",
    "print(output_path)\n",
    "\n",
    "# Define script to run\n",
    "host_script_dir = \"/Users/shawnserbin/Data/GitHub/ctsm_containers/ctsm_run_scripts:/ctsm_run_scripts\"\n",
    "ctsm_case_build_script = \"/ctsm_run_scripts/create_case_ctsmfates_1pt_example_PA-SLZ.sh\"\n"
   ]
  },
  {
   "cell_type": "code",
   "execution_count": null,
   "metadata": {},
   "outputs": [
    {
     "name": "stdout",
     "output_type": "stream",
     "text": [
      "docker run --hostname=modex --user clmuser -v /Users/shawnserbin/Data/GitHub/ctsm_containers/ctsm_run_scripts:/ctsm_run_scripts -v /Users/shawnserbin/Data/cesm_input_data:/data -v /Users/shawnserbin/scratch:/ctsm_output serbinsh/ctsm_containers:ctsm-fates_next_api-fates_sci.1.23.0_api.7.1.0 /ctsm_run_scripts/create_case_ctsmfates_1pt_example_PA-SLZ.sh -sy='1900-01-01' -ny=120 -rt=startup -mets=2008 -mete=2016\n"
     ]
    }
   ],
   "source": [
    "### Define case build command\n",
    "run_command = ''.join([\"docker run --hostname=\",hostname,\" --user \",user,\" -v \", host_script_dir,\" -v \",cesm_input_data_paths, \" -v \", output_path, \" \", container_name, \" \", ctsm_case_build_script, \" \", \"-sy=\",\"'\",start_year.__str__(),\"'\", \" \", \"-ny=\",num_years.__str__(),\" \",\"-rt=\",run_type,\" \",\"-mets=\",met_start.__str__(),\" \",\"-mete=\",met_end.__str__()])\n",
    "print(run_command)"
   ]
  },
  {
   "cell_type": "code",
   "execution_count": 5,
   "metadata": {},
   "outputs": [
    {
     "name": "stdout",
     "output_type": "stream",
     "text": [
      "140.54826188087463\n"
     ]
    }
   ],
   "source": [
    "### Build the case\n",
    "start = time.time()\n",
    "# run the docker container\n",
    "os.system(run_command)\n",
    "# get runtime\n",
    "end = time.time()\n",
    "#Print runtime\n",
    "print(end - start)"
   ]
  },
  {
   "cell_type": "code",
   "execution_count": null,
   "metadata": {},
   "outputs": [
    {
     "name": "stdout",
     "output_type": "stream",
     "text": [
      "docker run --hostname=modex --user clmuser -v /Users/shawnserbin/Data/cesm_input_data:/data -v /Users/shawnserbin/scratch:/ctsm_output serbinsh/ctsm_containers:ctsm-fates_next_api-fates_sci.1.23.0_api.7.1.0 /bin/sh -c 'cd /ctsm_output/CLM5FATES_1554173511_1x1PASLZ && ./case.submit'\n"
     ]
    }
   ],
   "source": [
    "### Setup case run command\n",
    "case_directory = \"CLM5FATES_1554173511_1x1PASLZ\" # need to grab this from the shell\n",
    "run_command = ''.join([\"docker run --hostname=\",hostname,\" --user \",user,\" -v \", cesm_input_data_paths, \" -v \", output_path, \" \",container_name, \" \",\"/bin/sh -c 'cd /ctsm_output/\",case_directory,\" && ./case.submit'\"])\n",
    "print(run_command)\n"
   ]
  },
  {
   "cell_type": "code",
   "execution_count": null,
   "metadata": {},
   "outputs": [],
   "source": [
    "### Run the case\n",
    "start = time.time()\n",
    "# run the docker container\n",
    "os.system(run_command)\n",
    "# get runtime\n",
    "end = time.time()\n",
    "#Print runtime\n",
    "print(end - start)"
   ]
  },
  {
   "cell_type": "code",
   "execution_count": null,
   "metadata": {},
   "outputs": [],
   "source": [
    "### explore output\n",
    "\n",
    "# first concatenate netCDF files\n",
    "ncfiles = ''.join([case_directory,\".clm2.h0.*\"])\n",
    "print(ncfiles)\n",
    "\n",
    "concat_command = ''.join([\"cd \",output_dir,\"/\",case_directory,\"/run\",\" && ncrcat \",ncfiles,\" all_years.nc\"])\n",
    "print(concat_command)\n",
    "os.system(concat_command)"
   ]
  },
  {
   "cell_type": "code",
   "execution_count": 18,
   "metadata": {},
   "outputs": [
    {
     "name": "stdout",
     "output_type": "stream",
     "text": [
      "cd /Users/shawnserbin/scratch/CLM5FATES_1554155156_1x1PASLZ/run && ncdump -h all_years.nc\n"
     ]
    },
    {
     "data": {
      "text/plain": [
       "0"
      ]
     },
     "execution_count": 18,
     "metadata": {},
     "output_type": "execute_result"
    }
   ],
   "source": [
    "### view output header\n",
    "ncdump = ''.join([\"cd \",output_dir,\"/\",case_directory,\"/run\",\" && ncdump -h all_years.nc\"])\n",
    "print(ncdump)\n",
    "os.system(ncdump)"
   ]
  },
  {
   "cell_type": "code",
   "execution_count": 19,
   "metadata": {},
   "outputs": [
    {
     "name": "stdout",
     "output_type": "stream",
     "text": [
      "/Users/shawnserbin/scratch/CLM5FATES_1554155156_1x1PASLZ/run/all_years.nc\n"
     ]
    }
   ],
   "source": [
    "### get output\n",
    "filename_in = ''.join([output_dir,\"/\",case_directory,\"/run/all_years.nc\"])\n",
    "print(filename_in)\n",
    "fin = nc.netcdf_file(filename_in)\n"
   ]
  },
  {
   "cell_type": "code",
   "execution_count": 20,
   "metadata": {},
   "outputs": [
    {
     "name": "stdout",
     "output_type": "stream",
     "text": [
      "[0.0000000e+00 4.1666668e-02 8.3333336e-02 ... 3.6491666e+02 3.6495834e+02\n",
      " 3.6500000e+02]\n"
     ]
    }
   ],
   "source": [
    "### read the coordinate data for the various dimensions\n",
    "time = fin.variables['time'][:]  ### time dimension, put in unit of years\n",
    "print(time)"
   ]
  },
  {
   "cell_type": "code",
   "execution_count": 21,
   "metadata": {},
   "outputs": [
    {
     "name": "stdout",
     "output_type": "stream",
     "text": [
      "[[0.0000000e+00]\n",
      " [0.0000000e+00]\n",
      " [0.0000000e+00]\n",
      " ...\n",
      " [1.0672104e-05]\n",
      " [4.7461049e-06]\n",
      " [4.1661849e-08]]\n",
      "[[0.08078604]\n",
      " [0.08038609]\n",
      " [0.07998615]\n",
      " ...\n",
      " [0.13924414]\n",
      " [0.13924414]\n",
      " [0.13924414]]\n"
     ]
    }
   ],
   "source": [
    "# get variables\n",
    "gpp = fin.variables['GPP'][:]\n",
    "print(gpp)\n",
    "lai = fin.variables['TLAI'][:]\n",
    "print(lai)"
   ]
  },
  {
   "cell_type": "code",
   "execution_count": 22,
   "metadata": {},
   "outputs": [
    {
     "data": {
      "text/plain": [
       "[<matplotlib.lines.Line2D at 0x1126aefd0>]"
      ]
     },
     "execution_count": 22,
     "metadata": {},
     "output_type": "execute_result"
    },
    {
     "data": {
      "image/png": "[encoded data removed]",
      "text/plain": [
       "<Figure size 432x288 with 1 Axes>"
      ]
     },
     "metadata": {
      "needs_background": "light"
     },
     "output_type": "display_data"
    }
   ],
   "source": [
    "### Plot output\n",
    "\n",
    "# GPP\n",
    "plt.plot(time,gpp, label='GPP')"
   ]
  },
  {
   "cell_type": "code",
   "execution_count": 23,
   "metadata": {},
   "outputs": [
    {
     "data": {
      "text/plain": [
       "[<matplotlib.lines.Line2D at 0x122257da0>]"
      ]
     },
     "execution_count": 23,
     "metadata": {},
     "output_type": "execute_result"
    },
    {
     "data": {
      "image/png": "[encoded data removed]",
      "text/plain": [
       "<Figure size 432x288 with 1 Axes>"
      ]
     },
     "metadata": {
      "needs_background": "light"
     },
     "output_type": "display_data"
    }
   ],
   "source": [
    "# TLAI\n",
    "plt.plot(time,lai, label='TLAI')"
   ]
  },
  {
   "cell_type": "code",
   "execution_count": null,
   "metadata": {},
   "outputs": [],
   "source": []
  }
 ],
 "metadata": {
  "kernelspec": {
   "display_name": "Python 3",
   "language": "python",
   "name": "python3"
  },
  "language_info": {
   "codemirror_mode": {
    "name": "ipython",
    "version": 3
   },
   "file_extension": ".py",
   "mimetype": "text/x-python",
   "name": "python",
   "nbconvert_exporter": "python",
   "pygments_lexer": "ipython3",
   "version": "3.7.2"
  }
 },
 "nbformat": 4,
 "nbformat_minor": 2
}
