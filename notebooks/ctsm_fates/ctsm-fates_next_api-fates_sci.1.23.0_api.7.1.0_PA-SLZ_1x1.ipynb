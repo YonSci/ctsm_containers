{
 "cells": [
  {
   "cell_type": "code",
   "execution_count": 1,
   "metadata": {},
   "outputs": [
    {
     "name": "stdout",
     "output_type": "stream",
     "text": [
      "/Users/shawnserbin/scratch\n"
     ]
    }
   ],
   "source": [
    "# Setup environment\n",
    "import os\n",
    "import glob\n",
    "import subprocess\n",
    "import sys\n",
    "import time\n",
    "from scipy.io import netcdf as nc\n",
    "\n",
    "import matplotlib.pyplot as plt\n",
    "from os.path import expanduser\n",
    "\n",
    "# Define output path\n",
    "home = expanduser(\"~\")\n",
    "output_dir = os.path.join(home,'scratch')  # main output directory.\n",
    "os.makedirs(os.path.dirname(output_dir), exist_ok=True)\n",
    "print(output_dir)"
   ]
  },
  {
   "cell_type": "code",
   "execution_count": 2,
   "metadata": {},
   "outputs": [
    {
     "name": "stdout",
     "output_type": "stream",
     "text": [
      "serbinsh/ctsm_containers:ctsm-fates_next_api-fates_sci.1.23.0_api.7.1.0\n"
     ]
    },
    {
     "data": {
      "text/plain": [
       "0"
      ]
     },
     "execution_count": 2,
     "metadata": {},
     "output_type": "execute_result"
    }
   ],
   "source": [
    "# Grab latest CTSM docker container from Docker hub\n",
    "source = \"serbinsh/ctsm_containers\"\n",
    "docker_container_tag = \"ctsm-fates_next_api-fates_sci.1.23.0_api.7.1.0\"\n",
    "container_name = ''.join([source,\":\",docker_container_tag])\n",
    "print(container_name)\n",
    "docker_pull_command = ''.join([\"docker pull \",source,\":\",docker_container_tag])\n",
    "os.system(docker_pull_command)\n",
    "\n",
    "# you should see docker pull progress in the Jupyter shell"
   ]
  },
  {
   "cell_type": "code",
   "execution_count": 5,
   "metadata": {},
   "outputs": [
    {
     "name": "stdout",
     "output_type": "stream",
     "text": [
      "/Users/shawnserbin/scratch:/ctsm_output\n"
     ]
    }
   ],
   "source": [
    "# Define run parameters for CTSM\n",
    "start_year = '1900-01-01'  # you need to place this in the single quotations\n",
    "num_years = 120\n",
    "met_start = 2008\n",
    "met_end = 2016\n",
    "run_type = \"startup\"\n",
    "hostname = \"modex\"\n",
    "user = \"clmuser\"\n",
    "\n",
    "# Define input/output paths (host:container)\n",
    "cesm_input_data_paths = \"~Data/cesm_input_data:/data\"\n",
    "output_path = ''.join([output_dir,\":/ctsm_output\"])\n",
    "print(output_path)\n",
    "\n",
    "# Define script to run\n",
    "host_script_dir = \"/Users/sserbin/Data/GitHub/ctsm_containers/ctsm_run_scripts:/ctsm_run_scripts\"\n",
    "ctsm_case_build_script = \"/ctsm_run_scripts/create_case_ctsmfates_1pt_example_PA-SLZ.sh\"\n"
   ]
  },
  {
   "cell_type": "code",
   "execution_count": 6,
   "metadata": {},
   "outputs": [
    {
     "name": "stdout",
     "output_type": "stream",
     "text": [
      "docker run --hostname=modex --user clmuser -v /Users/sserbin/Data/GitHub/ctsm_containers/ctsm_run_scripts:/ctsm_run_scripts -v ~Data/cesm_input_data:/data -v /Users/shawnserbin/scratch:/ctsm_output serbinsh/ctsm_containers:ctsm-fates_next_api-fates_sci.1.23.0_api.7.1.0 /ctsm_run_scripts/create_case_ctsmfates_1pt_example_PA-SLZ.sh -sy='1900-01-01' -ny=120 -rt=startup -mets=2008 -mete=2016\n"
     ]
    }
   ],
   "source": [
    "# Define case build command\n",
    "run_command = ''.join([\"docker run --hostname=\",hostname,\" --user \",user,\" -v \", host_script_dir,\" -v \",cesm_input_data_paths, \" -v \", output_path, \" \", container_name, \" \", ctsm_case_build_script, \" \", \"-sy=\",\"'\",start_year.__str__(),\"'\", \" \", \"-ny=\",num_years.__str__(),\" \",\"-rt=\",run_type,\" \",\"-mets=\",met_start.__str__(),\" \",\"-mete=\",met_end.__str__()])\n",
    "print(run_command)"
   ]
  },
  {
   "cell_type": "code",
   "execution_count": null,
   "metadata": {},
   "outputs": [],
   "source": [
    "# Build the case\n",
    "start = time.time()\n",
    "# run the docker container\n",
    "os.system(run_command)\n",
    "# get runtime\n",
    "end = time.time()\n",
    "#Print runtime\n",
    "print(end - start)"
   ]
  }
 ],
 "metadata": {
  "kernelspec": {
   "display_name": "Python 3",
   "language": "python",
   "name": "python3"
  },
  "language_info": {
   "codemirror_mode": {
    "name": "ipython",
    "version": 3
   },
   "file_extension": ".py",
   "mimetype": "text/x-python",
   "name": "python",
   "nbconvert_exporter": "python",
   "pygments_lexer": "ipython3",
   "version": "3.7.2"
  }
 },
 "nbformat": 4,
 "nbformat_minor": 2
}
