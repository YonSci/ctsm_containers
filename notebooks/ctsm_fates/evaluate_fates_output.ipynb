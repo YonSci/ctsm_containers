{
 "cells": [
  {
   "cell_type": "code",
   "execution_count": 2,
   "metadata": {},
   "outputs": [
    {
     "name": "stdout",
     "output_type": "stream",
     "text": [
      "/Users/shawnserbin/scratch/CLM5FATES_1552490654_1x1PASLZ/run\n"
     ]
    }
   ],
   "source": [
    "# Setup environment\n",
    "import os\n",
    "import glob\n",
    "import subprocess\n",
    "import sys\n",
    "import time\n",
    "from scipy.io import netcdf as nc\n",
    "\n",
    "import matplotlib.pyplot as plt\n",
    "from os.path import expanduser\n",
    "\n",
    "# Define output path\n",
    "home = expanduser(\"~\")\n",
    "output_dir = 'CLM5FATES_1552490654_1x1PASLZ'\n",
    "output_path = os.path.join(home,'scratch',output_dir,'run')  # main output directory.\n",
    "print(output_path)"
   ]
  },
  {
   "cell_type": "code",
   "execution_count": null,
   "metadata": {},
   "outputs": [
    {
     "name": "stdout",
     "output_type": "stream",
     "text": [
      "CLM5FATES_1552490654_1x1PASLZ.clm2.h0.*\n",
      "cd /Users/shawnserbin/scratch/CLM5FATES_1552490654_1x1PASLZ/run && ncrcat CLM5FATES_1552490654_1x1PASLZ.clm2.h0.* all_years.nc\n"
     ]
    }
   ],
   "source": [
    "# explore output\n",
    "\n",
    "# first concatenate netCDF files\n",
    "ncfiles = ''.join([output_dir,\".clm2.h0.*\"])\n",
    "print(ncfiles)\n",
    "\n",
    "concat_command = ''.join([\"cd \",output_path,\" && ncrcat \",ncfiles,\" all_years.nc\"])\n",
    "print(concat_command)\n",
    "os.system(concat_command)"
   ]
  },
  {
   "cell_type": "code",
   "execution_count": null,
   "metadata": {},
   "outputs": [],
   "source": [
    "# view output header\n",
    "ncdump = ''.join([\"cd \",output_path,\" && ncdump -h all_years.nc\"])\n",
    "print(ncdump)\n",
    "os.system(ncdump)"
   ]
  },
  {
   "cell_type": "code",
   "execution_count": 12,
   "metadata": {},
   "outputs": [
    {
     "name": "stdout",
     "output_type": "stream",
     "text": [
      "/Users/shawnserbin/scratch/CLM5FATES_1552490654_1x1PASLZ/run/all_years.nc\n",
      "cd /Users/shawnserbin/scratch/CLM5FATES_1552490654_1x1PASLZ/run && python2.7 /Users/shawnserbin/Data/GitHub/ctsm_containers/analysis_scripts/plot_fates_structuredvariables.py /Users/shawnserbin/scratch/CLM5FATES_1552490654_1x1PASLZ/run/all_years.nc\n"
     ]
    },
    {
     "data": {
      "text/plain": [
       "256"
      ]
     },
     "execution_count": 12,
     "metadata": {},
     "output_type": "execute_result"
    }
   ],
   "source": [
    "# \n",
    "filename_in = ''.join([output_path,\"/all_years.nc\"])\n",
    "print(filename_in)\n",
    "plot_fates_structuredvariables = '/Users/shawnserbin/Data/GitHub/ctsm_containers/analysis_scripts/plot_fates_structuredvariables.py'\n",
    "run_command = ''.join([\"cd \",output_path,\" && python2.7 \",plot_fates_structuredvariables,\" \",filename_in])\n",
    "print(run_command)\n",
    "os.system(run_command)\n",
    "\n",
    "\n"
   ]
  },
  {
   "cell_type": "code",
   "execution_count": null,
   "metadata": {},
   "outputs": [],
   "source": [
    "# get output\n",
    "filename_in = ''.join([output_path,\"/all_years.nc\"])\n",
    "print(filename_in)\n",
    "fin = nc.netcdf_file(filename_in)"
   ]
  }
 ],
 "metadata": {
  "kernelspec": {
   "display_name": "Python 3",
   "language": "python",
   "name": "python3"
  },
  "language_info": {
   "codemirror_mode": {
    "name": "ipython",
    "version": 3
   },
   "file_extension": ".py",
   "mimetype": "text/x-python",
   "name": "python",
   "nbconvert_exporter": "python",
   "pygments_lexer": "ipython3",
   "version": "3.7.2"
  }
 },
 "nbformat": 4,
 "nbformat_minor": 2
}
