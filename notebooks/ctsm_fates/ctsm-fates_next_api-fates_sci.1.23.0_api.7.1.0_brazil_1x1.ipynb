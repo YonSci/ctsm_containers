{
 "cells": [
  {
   "cell_type": "code",
   "execution_count": 1,
   "metadata": {},
   "outputs": [
    {
     "name": "stdout",
     "output_type": "stream",
     "text": [
      "/Users/shawnserbin/scratch\n"
     ]
    }
   ],
   "source": [
    "# Setup environment\n",
    "import os\n",
    "import glob\n",
    "import subprocess\n",
    "import sys\n",
    "import time\n",
    "from scipy.io import netcdf as nc\n",
    "\n",
    "import matplotlib.pyplot as plt\n",
    "from os.path import expanduser\n",
    "\n",
    "# Define output path\n",
    "home = expanduser(\"~\")\n",
    "output_dir = os.path.join(home,'scratch')  # main output directory.\n",
    "os.makedirs(os.path.dirname(output_dir), exist_ok=True)\n",
    "print(output_dir)"
   ]
  },
  {
   "cell_type": "code",
   "execution_count": 6,
   "metadata": {},
   "outputs": [
    {
     "name": "stdout",
     "output_type": "stream",
     "text": [
      "serbinsh/ctsm_containers:ctsm-fates_next_api-fates_sci.1.23.0_api.7.1.0\n"
     ]
    },
    {
     "data": {
      "text/plain": [
       "256"
      ]
     },
     "execution_count": 6,
     "metadata": {},
     "output_type": "execute_result"
    }
   ],
   "source": [
    "# Grab latest CTSM docker container from Docker hub\n",
    "source = \"serbinsh/ctsm_containers\"\n",
    "docker_container_tag = \"ctsm-fates_next_api-fates_sci.1.23.0_api.7.1.0\"\n",
    "container_name = ''.join([source,\":\",docker_container_tag])\n",
    "print(container_name)\n",
    "docker_pull_command = ''.join([\"docker pull \",source,\":\",docker_container_tag])\n",
    "os.system(docker_pull_command)\n",
    "\n",
    "# you should see docker pull progress in the Jupyter shell"
   ]
  },
  {
   "cell_type": "code",
   "execution_count": 4,
   "metadata": {},
   "outputs": [
    {
     "name": "stdout",
     "output_type": "stream",
     "text": [
      "/Users/shawnserbin/scratch:/ctsm_output\n"
     ]
    }
   ],
   "source": [
    "# Define run parameters for CTSM\n",
    "start_year = '1990-01-01'  # you need to place this in the single quotations\n",
    "num_years = 5\n",
    "met_start = 1990\n",
    "met_end = 1996\n",
    "run_type = \"startup\"\n",
    "hostname = \"modex\"\n",
    "user = \"clmuser\"\n",
    "\n",
    "# Define input/output paths (host:container)\n",
    "cesm_input_data_paths = \"/Volumes/data/Model_Data/cesm_input_datasets:/data\"\n",
    "output_path = ''.join([output_dir,\":/ctsm_output\"])\n",
    "print(output_path)\n",
    "\n",
    "# Define script to run\n",
    "ctsm_case_build_script = \"/ctsm_run_scripts/create_case_ctsmfates_1pt_example_1x1brazil.sh\"\n"
   ]
  },
  {
   "cell_type": "code",
   "execution_count": 6,
   "metadata": {},
   "outputs": [
    {
     "name": "stdout",
     "output_type": "stream",
     "text": [
      "docker run --hostname=modex --user clmuser -v /Volumes/data/Model_Data/cesm_input_datasets:/data -v /Users/sserbin/scratch:/ctsm_output serbinsh/ctsm_containers:ctsm-fates_next_api-fates_sci.1.23.0_api.7.1.0 /ctsm_run_scripts/create_case_ctsmfates_1pt_example_1x1brazil.sh -sy='1990-01-01' -ny=5 -rt=startup -mets=1990 -mete=1996\n"
     ]
    }
   ],
   "source": [
    "# Define case build command\n",
    "run_command = ''.join([\"docker run --hostname=\",hostname,\" --user \",user,\" -v \", cesm_input_data_paths, \" -v \", output_path, \" \", container_name, \" \", ctsm_case_build_script, \" \", \"-sy=\",\"'\",start_year.__str__(),\"'\", \" \", \"-ny=\",num_years.__str__(),\" \",\"-rt=\",run_type,\" \",\"-mets=\",met_start.__str__(),\" \",\"-mete=\",met_end.__str__()])\n",
    "print(run_command)\n"
   ]
  },
  {
   "cell_type": "code",
   "execution_count": 7,
   "metadata": {},
   "outputs": [
    {
     "name": "stdout",
     "output_type": "stream",
     "text": [
      "163.32820200920105\n"
     ]
    }
   ],
   "source": [
    "# Build the case\n",
    "start = time.time()\n",
    "# run the docker container\n",
    "os.system(run_command)\n",
    "# get runtime\n",
    "end = time.time()\n",
    "#Print runtime\n",
    "print(end - start)"
   ]
  },
  {
   "cell_type": "code",
   "execution_count": 7,
   "metadata": {},
   "outputs": [
    {
     "name": "stdout",
     "output_type": "stream",
     "text": [
      "docker run --hostname=modex --user clmuser -v /Volumes/data/Model_Data/cesm_input_datasets:/data -v /Users/shawnserbin/scratch:/ctsm_output serbinsh/ctsm_containers:ctsm-fates_next_api-fates_sci.1.23.0_api.7.1.0 /bin/sh -c 'cd /ctsm_output/CLM5FATES_1553031038_1x1brazil && ./case.submit'\n"
     ]
    }
   ],
   "source": [
    "# Setup case run command\n",
    "case_directory = \"CLM5FATES_1553031038_1x1brazil\" # need to grab this from the shell\n",
    "run_command = ''.join([\"docker run --hostname=\",hostname,\" --user \",user,\" -v \", cesm_input_data_paths, \" -v \", output_path, \" \",container_name, \" \",\"/bin/sh -c 'cd /ctsm_output/\",case_directory,\" && ./case.submit'\"])\n",
    "print(run_command)\n"
   ]
  },
  {
   "cell_type": "code",
   "execution_count": 9,
   "metadata": {},
   "outputs": [
    {
     "name": "stdout",
     "output_type": "stream",
     "text": [
      "7561.2029531002045\n"
     ]
    }
   ],
   "source": [
    "# Run the case\n",
    "start = time.time()\n",
    "# run the docker container\n",
    "os.system(run_command)\n",
    "# get runtime\n",
    "end = time.time()\n",
    "#Print runtime\n",
    "print(end - start)"
   ]
  },
  {
   "cell_type": "code",
   "execution_count": 8,
   "metadata": {},
   "outputs": [
    {
     "name": "stdout",
     "output_type": "stream",
     "text": [
      "CLM5FATES_1553031038_1x1brazil.clm2.h0.*\n",
      "cd /Users/shawnserbin/scratch/CLM5FATES_1553031038_1x1brazil/run && ncrcat CLM5FATES_1553031038_1x1brazil.clm2.h0.* all_years.nc\n"
     ]
    },
    {
     "data": {
      "text/plain": [
       "256"
      ]
     },
     "execution_count": 8,
     "metadata": {},
     "output_type": "execute_result"
    }
   ],
   "source": [
    "# explore output\n",
    "\n",
    "# first concatenate netCDF files\n",
    "ncfiles = ''.join([case_directory,\".clm2.h0.*\"])\n",
    "print(ncfiles)\n",
    "\n",
    "concat_command = ''.join([\"cd \",output_dir,\"/\",case_directory,\"/run\",\" && ncrcat \",ncfiles,\" all_years.nc\"])\n",
    "print(concat_command)\n",
    "os.system(concat_command)"
   ]
  },
  {
   "cell_type": "code",
   "execution_count": 2,
   "metadata": {},
   "outputs": [
    {
     "ename": "NameError",
     "evalue": "name 'case_directory' is not defined",
     "output_type": "error",
     "traceback": [
      "\u001b[0;31m---------------------------------------------------------------------------\u001b[0m",
      "\u001b[0;31mNameError\u001b[0m                                 Traceback (most recent call last)",
      "\u001b[0;32m<ipython-input-2-d5b690ae3cde>\u001b[0m in \u001b[0;36m<module>\u001b[0;34m\u001b[0m\n\u001b[1;32m      1\u001b[0m \u001b[0;31m# view output header\u001b[0m\u001b[0;34m\u001b[0m\u001b[0;34m\u001b[0m\u001b[0;34m\u001b[0m\u001b[0m\n\u001b[0;32m----> 2\u001b[0;31m \u001b[0mncdump\u001b[0m \u001b[0;34m=\u001b[0m \u001b[0;34m''\u001b[0m\u001b[0;34m.\u001b[0m\u001b[0mjoin\u001b[0m\u001b[0;34m(\u001b[0m\u001b[0;34m[\u001b[0m\u001b[0;34m\"cd \"\u001b[0m\u001b[0;34m,\u001b[0m\u001b[0moutput_dir\u001b[0m\u001b[0;34m,\u001b[0m\u001b[0;34m\"/\"\u001b[0m\u001b[0;34m,\u001b[0m\u001b[0mcase_directory\u001b[0m\u001b[0;34m,\u001b[0m\u001b[0;34m\"/run\"\u001b[0m\u001b[0;34m,\u001b[0m\u001b[0;34m\" && ncdump -h all_years.nc\"\u001b[0m\u001b[0;34m]\u001b[0m\u001b[0;34m)\u001b[0m\u001b[0;34m\u001b[0m\u001b[0;34m\u001b[0m\u001b[0m\n\u001b[0m\u001b[1;32m      3\u001b[0m \u001b[0mprint\u001b[0m\u001b[0;34m(\u001b[0m\u001b[0mncdump\u001b[0m\u001b[0;34m)\u001b[0m\u001b[0;34m\u001b[0m\u001b[0;34m\u001b[0m\u001b[0m\n\u001b[1;32m      4\u001b[0m \u001b[0mos\u001b[0m\u001b[0;34m.\u001b[0m\u001b[0msystem\u001b[0m\u001b[0;34m(\u001b[0m\u001b[0mncdump\u001b[0m\u001b[0;34m)\u001b[0m\u001b[0;34m\u001b[0m\u001b[0;34m\u001b[0m\u001b[0m\n",
      "\u001b[0;31mNameError\u001b[0m: name 'case_directory' is not defined"
     ]
    }
   ],
   "source": [
    "# view output header\n",
    "ncdump = ''.join([\"cd \",output_dir,\"/\",case_directory,\"/run\",\" && ncdump -h all_years.nc\"])\n",
    "print(ncdump)\n",
    "os.system(ncdump)"
   ]
  },
  {
   "cell_type": "code",
   "execution_count": 12,
   "metadata": {},
   "outputs": [
    {
     "name": "stdout",
     "output_type": "stream",
     "text": [
      "/Users/sserbin/scratch/CLM5FATES_1553031038_1x1brazil/run/all_years.nc\n"
     ]
    }
   ],
   "source": [
    "# get output\n",
    "filename_in = ''.join([output_dir,\"/\",case_directory,\"/run/all_years.nc\"])\n",
    "print(filename_in)\n",
    "fin = nc.netcdf_file(filename_in)\n"
   ]
  },
  {
   "cell_type": "code",
   "execution_count": 13,
   "metadata": {},
   "outputs": [
    {
     "name": "stdout",
     "output_type": "stream",
     "text": [
      "[0.0000000e+00 4.1666668e-02 8.3333336e-02 ... 1.8259166e+03 1.8259584e+03\n",
      " 1.8260000e+03]\n"
     ]
    }
   ],
   "source": [
    "## read the coordinate data for the various dimensions\n",
    "time = fin.variables['time'][:]  ### time dimension, put in unit of years\n",
    "print(time)"
   ]
  },
  {
   "cell_type": "code",
   "execution_count": 14,
   "metadata": {},
   "outputs": [
    {
     "name": "stdout",
     "output_type": "stream",
     "text": [
      "[[0.0000000e+00]\n",
      " [0.0000000e+00]\n",
      " [0.0000000e+00]\n",
      " ...\n",
      " [4.4925928e-05]\n",
      " [0.0000000e+00]\n",
      " [0.0000000e+00]]\n",
      "[[0.08340312]\n",
      " [0.08299021]\n",
      " [0.08257731]\n",
      " ...\n",
      " [1.1111917 ]\n",
      " [1.1111917 ]\n",
      " [1.1111917 ]]\n"
     ]
    }
   ],
   "source": [
    "# get variables\n",
    "gpp = fin.variables['GPP'][:]\n",
    "print(gpp)\n",
    "lai = fin.variables['TLAI'][:]\n",
    "print(lai)"
   ]
  },
  {
   "cell_type": "code",
   "execution_count": 15,
   "metadata": {},
   "outputs": [
    {
     "data": {
      "text/plain": [
       "[<matplotlib.lines.Line2D at 0x12bfddef0>]"
      ]
     },
     "execution_count": 15,
     "metadata": {},
     "output_type": "execute_result"
    },
    {
     "data": {
      "image/png": "[encoded data removed]",
      "text/plain": [
       "<Figure size 432x288 with 1 Axes>"
      ]
     },
     "metadata": {
      "needs_background": "light"
     },
     "output_type": "display_data"
    }
   ],
   "source": [
    "# Plot output\n",
    "plt.plot(time,gpp, label='GPP')"
   ]
  },
  {
   "cell_type": "code",
   "execution_count": 16,
   "metadata": {},
   "outputs": [
    {
     "data": {
      "text/plain": [
       "[<matplotlib.lines.Line2D at 0x12cbc5c18>]"
      ]
     },
     "execution_count": 16,
     "metadata": {},
     "output_type": "execute_result"
    },
    {
     "data": {
      "image/png": "[encoded data removed]",
      "text/plain": [
       "<Figure size 432x288 with 1 Axes>"
      ]
     },
     "metadata": {
      "needs_background": "light"
     },
     "output_type": "display_data"
    }
   ],
   "source": [
    "plt.plot(time,lai, label='TLAI')"
   ]
  },
  {
   "cell_type": "code",
   "execution_count": null,
   "metadata": {},
   "outputs": [],
   "source": []
  }
 ],
 "metadata": {
  "kernelspec": {
   "display_name": "Python 3",
   "language": "python",
   "name": "python3"
  },
  "language_info": {
   "codemirror_mode": {
    "name": "ipython",
    "version": 3
   },
   "file_extension": ".py",
   "mimetype": "text/x-python",
   "name": "python",
   "nbconvert_exporter": "python",
   "pygments_lexer": "ipython3",
   "version": "3.7.2"
  }
 },
 "nbformat": 4,
 "nbformat_minor": 2
}
