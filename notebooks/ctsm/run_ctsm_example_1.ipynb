{
 "cells": [
  {
   "cell_type": "code",
   "execution_count": 43,
   "metadata": {},
   "outputs": [
    {
     "name": "stdout",
     "output_type": "stream",
     "text": [
      "/Users/shawnserbin/scratch\n"
     ]
    }
   ],
   "source": [
    "# Setup environment\n",
    "import os\n",
    "import glob\n",
    "import subprocess\n",
    "import sys\n",
    "import time\n",
    "from scipy.io import netcdf as nc\n",
    "\n",
    "import matplotlib.pyplot as plt\n",
    "from os.path import expanduser\n",
    "\n",
    "# Define output path\n",
    "home = expanduser(\"~\")\n",
    "output_dir = os.path.join(home,'scratch')  # main output directory.\n",
    "os.makedirs(os.path.dirname(output_dir), exist_ok=True)\n",
    "print(output_dir)"
   ]
  },
  {
   "cell_type": "code",
   "execution_count": 12,
   "metadata": {},
   "outputs": [
    {
     "name": "stdout",
     "output_type": "stream",
     "text": [
      "serbinsh/ctsm_containers:ctsm-release-clm5.0.15\n"
     ]
    },
    {
     "data": {
      "text/plain": [
       "0"
      ]
     },
     "execution_count": 12,
     "metadata": {},
     "output_type": "execute_result"
    }
   ],
   "source": [
    "# Grab latest CTSM docker container from Docker hub\n",
    "source = \"serbinsh/ctsm_containers\"\n",
    "docker_container_tag = \"ctsm-release-clm5.0.15\"\n",
    "container_name = ''.join([source,\":\",docker_container_tag])\n",
    "print(container_name)\n",
    "docker_pull_command = ''.join([\"docker pull \",source,\":\",docker_container_tag])\n",
    "os.system(docker_pull_command)\n",
    "\n",
    "# you should see docker pull progress in the Jupyter shell"
   ]
  },
  {
   "cell_type": "code",
   "execution_count": 23,
   "metadata": {},
   "outputs": [
    {
     "name": "stdout",
     "output_type": "stream",
     "text": [
      "/Users/shawnserbin/scratch:/ctsm_output\n"
     ]
    }
   ],
   "source": [
    "# Define run parameters for CTSM\n",
    "start_year = '1998-01-01'  # you need to place this in the single quotations\n",
    "num_run_years = 2\n",
    "hostname = \"modex\"\n",
    "user = \"clmuser\"\n",
    "\n",
    "# Define input/output paths (host:container)\n",
    "cesm_input_data_paths = \"~/Data/cesm_input_data:/data\"\n",
    "output_path = ''.join([output_dir,\":/ctsm_output\"])\n",
    "print(output_path)\n",
    "\n",
    "# Define script to run\n",
    "ctsm_case_build_script = \"/ctsm_run_scripts/create_case_1pt_example_USNR1.sh\""
   ]
  },
  {
   "cell_type": "code",
   "execution_count": 24,
   "metadata": {},
   "outputs": [
    {
     "name": "stdout",
     "output_type": "stream",
     "text": [
      "docker run --hostname=modex --user clmuser -v ~/Data/cesm_input_data:/data -v /Users/shawnserbin/scratch:/ctsm_output serbinsh/ctsm_containers:ctsm-release-clm5.0.15 /ctsm_run_scripts/create_case_1pt_example_USNR1.sh '1998-01-01' 2\n"
     ]
    }
   ],
   "source": [
    "# Define case build command\n",
    "run_command = ''.join([\"docker run --hostname=\",hostname,\" --user \",user,\" -v \", cesm_input_data_paths, \" -v \", output_path, \" \", container_name, \" \", ctsm_case_build_script, \" \", \"'\",start_year.__str__(),\"'\", \" \", num_run_years.__str__()])\n",
    "print(run_command)\n"
   ]
  },
  {
   "cell_type": "code",
   "execution_count": 25,
   "metadata": {},
   "outputs": [
    {
     "name": "stdout",
     "output_type": "stream",
     "text": [
      "149.89844298362732\n"
     ]
    }
   ],
   "source": [
    "# Run\n",
    "start = time.time()\n",
    "# run the docker container\n",
    "os.system(run_command)\n",
    "# get runtime\n",
    "end = time.time()\n",
    "#Print runtime\n",
    "print(end - start)"
   ]
  },
  {
   "cell_type": "code",
   "execution_count": 26,
   "metadata": {},
   "outputs": [
    {
     "name": "stdout",
     "output_type": "stream",
     "text": [
      "docker run --hostname=modex --user clmuser -v ~/Data/cesm_input_data:/data -v /Users/shawnserbin/scratch:/ctsm_output serbinsh/ctsm_containers:ctsm-release-clm5.0.15 /bin/sh -c 'cd /ctsm_output/CLM5_1553001861 && ./case.submit'\n"
     ]
    }
   ],
   "source": [
    "# Setup run case run command\n",
    "case_directory = \"CLM5_1553001861\" # need to grab this from the shell\n",
    "run_command = ''.join([\"docker run --hostname=\",hostname,\" --user \",user,\" -v \", cesm_input_data_paths, \" -v \", output_path, \" \",container_name, \" \",\"/bin/sh -c 'cd /ctsm_output/\",case_directory,\" && ./case.submit'\"])\n",
    "print(run_command)\n"
   ]
  },
  {
   "cell_type": "code",
   "execution_count": 27,
   "metadata": {},
   "outputs": [
    {
     "name": "stdout",
     "output_type": "stream",
     "text": [
      "193.58764910697937\n"
     ]
    }
   ],
   "source": [
    "# Run\n",
    "start = time.time()\n",
    "# run the docker container\n",
    "os.system(run_command)\n",
    "# get runtime\n",
    "end = time.time()\n",
    "#Print runtime\n",
    "print(end - start)"
   ]
  },
  {
   "cell_type": "code",
   "execution_count": 32,
   "metadata": {},
   "outputs": [
    {
     "name": "stdout",
     "output_type": "stream",
     "text": [
      "CLM5_1553001861.clm2.h0.*\n",
      "cd /Users/shawnserbin/scratch/CLM5_1553001861/run && ncrcat CLM5_1553001861.clm2.h0.* all_years.nc\n"
     ]
    },
    {
     "data": {
      "text/plain": [
       "0"
      ]
     },
     "execution_count": 32,
     "metadata": {},
     "output_type": "execute_result"
    }
   ],
   "source": [
    "# explore output\n",
    "\n",
    "# first concatenate netCDF files\n",
    "ncfiles = ''.join([case_directory,\".clm2.h0.*\"])\n",
    "print(ncfiles)\n",
    "\n",
    "concat_command = ''.join([\"cd \",output_dir,\"/\",case_directory,\"/run\",\" && ncrcat \",ncfiles,\" all_years.nc\"])\n",
    "print(concat_command)\n",
    "os.system(concat_command)"
   ]
  },
  {
   "cell_type": "code",
   "execution_count": 36,
   "metadata": {},
   "outputs": [
    {
     "name": "stdout",
     "output_type": "stream",
     "text": [
      "cd /Users/shawnserbin/scratch/CLM5_1553001861/run && ncdump -h all_years.nc\n"
     ]
    },
    {
     "data": {
      "text/plain": [
       "0"
      ]
     },
     "execution_count": 36,
     "metadata": {},
     "output_type": "execute_result"
    }
   ],
   "source": [
    "# view output header\n",
    "ncdump = ''.join([\"cd \",output_dir,\"/\",case_directory,\"/run\",\" && ncdump -h all_years.nc\"])\n",
    "print(ncdump)\n",
    "os.system(ncdump)"
   ]
  },
  {
   "cell_type": "code",
   "execution_count": 44,
   "metadata": {},
   "outputs": [
    {
     "name": "stdout",
     "output_type": "stream",
     "text": [
      "/Users/shawnserbin/scratch/CLM5_1553001861/run/all_years.nc\n"
     ]
    }
   ],
   "source": [
    "# get output\n",
    "filename_in = ''.join([output_dir,\"/\",case_directory,\"/run/all_years.nc\"])\n",
    "print(filename_in)\n",
    "fin = nc.netcdf_file(filename_in)\n"
   ]
  },
  {
   "cell_type": "code",
   "execution_count": 50,
   "metadata": {},
   "outputs": [
    {
     "name": "stdout",
     "output_type": "stream",
     "text": [
      "[0.0000000e+00 4.1666668e-02 8.3333336e-02 ... 7.2991669e+02 7.2995831e+02\n",
      " 7.3000000e+02]\n"
     ]
    }
   ],
   "source": [
    "## read the coordinate data for the various dimensions\n",
    "time = fin.variables['time'][:]  ### time dimension, put in unit of years\n",
    "print(time)"
   ]
  },
  {
   "cell_type": "code",
   "execution_count": 53,
   "metadata": {},
   "outputs": [
    {
     "name": "stdout",
     "output_type": "stream",
     "text": [
      "[[0.0000000e+00]\n",
      " [0.0000000e+00]\n",
      " [0.0000000e+00]\n",
      " ...\n",
      " [8.2436854e-06]\n",
      " [6.2418949e-06]\n",
      " [3.8148587e-06]]\n",
      "[[0.        ]\n",
      " [0.09171552]\n",
      " [0.18342568]\n",
      " ...\n",
      " [0.2747092 ]\n",
      " [0.2747124 ]\n",
      " [0.27471563]]\n"
     ]
    }
   ],
   "source": [
    "# get variables\n",
    "gpp = fin.variables['GPP'][:]\n",
    "print(gpp)\n",
    "lai = fin.variables['TLAI'][:]\n",
    "print(lai)"
   ]
  },
  {
   "cell_type": "code",
   "execution_count": 55,
   "metadata": {},
   "outputs": [
    {
     "data": {
      "text/plain": [
       "[<matplotlib.lines.Line2D at 0x11e843358>]"
      ]
     },
     "execution_count": 55,
     "metadata": {},
     "output_type": "execute_result"
    },
    {
     "data": {
      "image/png": "[encoded data removed]",
      "text/plain": [
       "<Figure size 432x288 with 1 Axes>"
      ]
     },
     "metadata": {
      "needs_background": "light"
     },
     "output_type": "display_data"
    }
   ],
   "source": [
    "# Plot output\n",
    "plt.plot(time,gpp, label='GPP')"
   ]
  },
  {
   "cell_type": "code",
   "execution_count": 56,
   "metadata": {},
   "outputs": [
    {
     "data": {
      "text/plain": [
       "[<matplotlib.lines.Line2D at 0x11e952eb8>]"
      ]
     },
     "execution_count": 56,
     "metadata": {},
     "output_type": "execute_result"
    },
    {
     "data": {
      "image/png": "[encoded data removed]",
      "text/plain": [
       "<Figure size 432x288 with 1 Axes>"
      ]
     },
     "metadata": {
      "needs_background": "light"
     },
     "output_type": "display_data"
    }
   ],
   "source": [
    "plt.plot(time,lai, label='TLAI')"
   ]
  },
  {
   "cell_type": "code",
   "execution_count": null,
   "metadata": {},
   "outputs": [],
   "source": []
  }
 ],
 "metadata": {
  "kernelspec": {
   "display_name": "Python 3",
   "language": "python",
   "name": "python3"
  },
  "language_info": {
   "codemirror_mode": {
    "name": "ipython",
    "version": 3
   },
   "file_extension": ".py",
   "mimetype": "text/x-python",
   "name": "python",
   "nbconvert_exporter": "python",
   "pygments_lexer": "ipython3",
   "version": "3.7.2"
  }
 },
 "nbformat": 4,
 "nbformat_minor": 2
}
